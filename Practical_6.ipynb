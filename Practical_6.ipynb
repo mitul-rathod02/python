{
 "cells": [
  {
   "cell_type": "code",
   "execution_count": 1,
   "metadata": {},
   "outputs": [],
   "source": [
    "import pandas as pd\n",
    "\n",
    "\n"
   ]
  },
  {
   "cell_type": "code",
   "execution_count": 2,
   "metadata": {},
   "outputs": [
    {
     "name": "stdout",
     "output_type": "stream",
     "text": [
      "   Roll#        Student   Department  General Sc.  Math's  Computer Remarks\n",
      "0      1      Agarwal V  Computer Sc           78      80        66    Pass\n",
      "1      2        Agnew P  Computer Sc           45      78        66    Pass\n",
      "2      3        Ahmad H   Statistics           78      30        50    Fail\n",
      "3      4   Alambritis G      Physics           65      68        70    Pass\n",
      "4      5        Allen J    Economics           87      50        60    Pass\n",
      "5      6      Anthony A       Math's           54      30        30    Fail\n",
      "6      7     Antoniou V  Computer Sc           76      70        70       ?\n",
      "7      8        Archy J    Economics           76      40        40    Fail\n",
      "8      9    Armstrong B       Math's           86      30        40       ?\n",
      "9     10  Arvanitakis I      Physics           68      70        80    Pass\n"
     ]
    }
   ],
   "source": [
    "# Read the CSV file into a DataFrame\n",
    "data = pd.read_csv(\"Practical_6.csv\")\n",
    "\n",
    "# Display the contents of the DataFrame\n",
    "print(data)"
   ]
  },
  {
   "cell_type": "code",
   "execution_count": 4,
   "metadata": {},
   "outputs": [
    {
     "name": "stdout",
     "output_type": "stream",
     "text": [
      "Math's Score: Mean = 54.6, Median = 59.0, Mode = 30\n",
      "\n",
      "General Science Score: Mean = 71.3, Median = 76.0, Mode = 76\n",
      "\n",
      "Computer Score: Mean = 57.2, Median = 63.0, Mode = 40\n"
     ]
    }
   ],
   "source": [
    "\n",
    "# Calculate central tendency measurements\n",
    "math_mean = data['Math\\'s'].mean()\n",
    "math_median = data['Math\\'s'].median()\n",
    "math_mode = data['Math\\'s'].mode()[0]  # mode() returns a Series\n",
    "\n",
    "general_sc_mean = data['General Sc.'].mean()\n",
    "general_sc_median = data['General Sc.'].median()\n",
    "general_sc_mode = data['General Sc.'].mode()[0]\n",
    "\n",
    "computer_mean = data['Computer'].mean()\n",
    "computer_median = data['Computer'].median()\n",
    "computer_mode = data['Computer'].mode()[0]\n",
    "\n",
    "# Display the results\n",
    "print(f\"Math's Score: Mean = {math_mean}, Median = {math_median}, Mode = {math_mode}\\n\")\n",
    "print(f\"General Science Score: Mean = {general_sc_mean}, Median = {general_sc_median}, Mode = {general_sc_mode}\\n\")\n",
    "print(f\"Computer Score: Mean = {computer_mean}, Median = {computer_median}, Mode = {computer_mode}\")"
   ]
  },
  {
   "cell_type": "markdown",
   "metadata": {},
   "source": [
    "# Interpretation of Central Tendency Measurements\n",
    "\n",
    "    Mean:\n",
    "        The mean provides the average score. It gives an overall picture of the performance in each subject but can be influenced by extreme values (outliers).\n",
    "\n",
    "    Median:\n",
    "        The median is the middle value when the scores are ordered. It is a better measure of central tendency when the data set contains outliers or is skewed, as it is not affected by extreme scores.\n",
    "\n",
    "    Mode:\n",
    "        The mode represents the most frequently occurring score in the dataset. It is useful for understanding which score is most common among students."
   ]
  },
  {
   "cell_type": "code",
   "execution_count": 6,
   "metadata": {},
   "outputs": [
    {
     "name": "stdout",
     "output_type": "stream",
     "text": [
      "Math's Scores:\n",
      "Standard Deviation: 20.807050087250072\n",
      "Variance: 432.9333333333333\n",
      "Range: 50\n",
      "\n",
      "General Science Scores:\n",
      "Standard Deviation: 13.491149362122973\n",
      "Variance: 182.0111111111111\n",
      "Range: 42\n",
      "\n",
      "Computer Scores:\n",
      "Standard Deviation: 16.308143841515367\n",
      "Variance: 265.9555555555556\n",
      "Range: 50\n"
     ]
    }
   ],
   "source": [
    "# Calculate scores for Math's, General Sc., and Computer\n",
    "math_scores = data[\"Math's\"]\n",
    "general_sc_scores = data[\"General Sc.\"]\n",
    "computer_scores = data[\"Computer\"]\n",
    "\n",
    "# Standard Deviation\n",
    "math_std = math_scores.std()\n",
    "general_sc_std = general_sc_scores.std()\n",
    "computer_std = computer_scores.std()\n",
    "\n",
    "# Variance\n",
    "math_variance = math_scores.var()\n",
    "general_sc_variance = general_sc_scores.var()\n",
    "computer_variance = computer_scores.var()\n",
    "\n",
    "# Range\n",
    "math_range = math_scores.max() - math_scores.min()\n",
    "general_sc_range = general_sc_scores.max() - general_sc_scores.min()\n",
    "computer_range = computer_scores.max() - computer_scores.min()\n",
    "\n",
    "# Display results\n",
    "print(\"Math's Scores:\")\n",
    "print(f\"Standard Deviation: {math_std}\")\n",
    "print(f\"Variance: {math_variance}\")\n",
    "print(f\"Range: {math_range}\")\n",
    "\n",
    "print(\"\\nGeneral Science Scores:\")\n",
    "print(f\"Standard Deviation: {general_sc_std}\")\n",
    "print(f\"Variance: {general_sc_variance}\")\n",
    "print(f\"Range: {general_sc_range}\")\n",
    "\n",
    "print(\"\\nComputer Scores:\")\n",
    "print(f\"Standard Deviation: {computer_std}\")\n",
    "print(f\"Variance: {computer_variance}\")\n",
    "print(f\"Range: {computer_range}\")"
   ]
  },
  {
   "cell_type": "markdown",
   "metadata": {},
   "source": [
    "# Interpretation of Standard Deviation, Variance, and Range\n",
    "\n",
    "Standard Deviation measures the spread of scores around the mean; a higher value indicates greater variability in student performance.\n",
    "\n",
    "Variance, being the square of the standard deviation, reinforces this notion of dispersion in scores.\n",
    "\n",
    "Range provides a simple view of the score distribution by showing the difference between the highest and lowest scores, highlighting the overall variability in performance."
   ]
  },
  {
   "cell_type": "markdown",
   "metadata": {},
   "source": [
    "# The impact of one or a few outlier values on the variance can be significant:\n",
    "\n",
    "    Math's Scores: If a few students scored exceptionally high or low, the variance would increase as these outliers would widen the average distance of scores from the mean, reflecting greater inconsistency in performance.\n",
    "\n",
    "    General Science Scores: Similar to Math, outlier scores would raise the variance, indicating that while most students may perform consistently, the presence of a few extreme values disrupts the overall uniformity.\n",
    "\n",
    "    Computer Scores: Outliers would again increase the variance, suggesting variability in performance that may not represent the majority of students, which could signal a need for targeted interventions.\n",
    "\n",
    "In summary, outlier values can inflate variance, obscuring the true central tendency and uniformity of the data, thereby indicating greater diversity in student performance."
   ]
  }
 ],
 "metadata": {
  "kernelspec": {
   "display_name": "Python 3",
   "language": "python",
   "name": "python3"
  },
  "language_info": {
   "codemirror_mode": {
    "name": "ipython",
    "version": 3
   },
   "file_extension": ".py",
   "mimetype": "text/x-python",
   "name": "python",
   "nbconvert_exporter": "python",
   "pygments_lexer": "ipython3",
   "version": "3.11.4"
  }
 },
 "nbformat": 4,
 "nbformat_minor": 2
}
