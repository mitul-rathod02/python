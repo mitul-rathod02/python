{
 "cells": [
  {
   "cell_type": "code",
   "execution_count": 21,
   "metadata": {},
   "outputs": [
    {
     "name": "stdout",
     "output_type": "stream",
     "text": [
      "Mean: 1.8410852713178294\n",
      "Median: 2.0\n",
      "Mode: 1\n"
     ]
    }
   ],
   "source": [
    "import numpy as np\n",
    "from scipy import stats\n",
    "\n",
    "# Given data\n",
    "data = [\n",
    "    1, 1, 0, 1, 2, 2, 0, 0, 0, 3, 3, 0, 3, 3, 0, 2, 2, 2, 1, 1,\n",
    "    4, 1, 1, 0, 3, 0, 0, 0, 1, 1, 2, 2, 2, 2, 1, 1, 1, 1, 4, 4,\n",
    "    4, 1, 1, 1, 1, 2, 2, 2, 2, 2, 2, 2, 2, 1, 1, 1, 1, 1, 3, 3,\n",
    "    0, 3, 3, 1, 1, 1, 1, 0, 0, 1, 1, 1, 1, 3, 3, 3, 2, 3, 3, 1,\n",
    "    1, 1, 2, 2, 2, 4, 5, 5, 4, 4, 1, 1, 1, 4, 1, 1, 1, 3, 3, 5,\n",
    "    3, 3, 3, 2, 3, 3, 0, 0, 0, 0, 3, 3, 3, 3, 3, 3, 0, 2, 2, 2,\n",
    "    2, 1, 1, 1, 3, 1, 0, 0, 0, 1, 1, 3, 1, 1, 1, 2, 2, 2, 4, 2,\n",
    "    2, 2, 1, 1, 1, 1, 0, 0, 2, 2, 3, 3, 2, 2, 3, 2, 0, 0, 1, 1,\n",
    "    3, 3, 3, 1, 1, 1, 1, 1, 2, 2, 2, 2, 1, 1, 1, 1, 0, 1, 1, 1,\n",
    "    3, 1, 1, 1, 2, 2, 2, 1, 1, 1, 2, 1, 1, 1, 3, 3, 5, 3, 3, 1,\n",
    "    1, 1, 3, 3, 3, 3, 1, 1, 1, 4, 1, 1, 4, 4, 4, 4, 4, 4, 1, 1,\n",
    "    1, 2, 2, 5, 5, 2, 3, 3, 4, 4, 3, 2, 2, 2, 1, 5, 1, 2, 2, 1,\n",
    "    1, 1, 2, 2, 2, 2, 2, 1, 1, 0, 1, 1, 1, 3, 3, 3, 3, 3\n",
    "]\n",
    "\n",
    "# Calculate mean, median, and mode\n",
    "mean_value = np.mean(data)\n",
    "median_value = np.median(data)\n",
    "mode_value = stats.mode(data).mode # Directly access mode without indexing\n",
    "\n",
    "# Output results\n",
    "print(f\"Mean: {mean_value}\")\n",
    "print(f\"Median: {median_value}\")\n",
    "print(f\"Mode: {mode_value}\")\n"
   ]
  }
 ],
 "metadata": {
  "kernelspec": {
   "display_name": "Python 3",
   "language": "python",
   "name": "python3"
  },
  "language_info": {
   "codemirror_mode": {
    "name": "ipython",
    "version": 3
   },
   "file_extension": ".py",
   "mimetype": "text/x-python",
   "name": "python",
   "nbconvert_exporter": "python",
   "pygments_lexer": "ipython3",
   "version": "3.11.4"
  }
 },
 "nbformat": 4,
 "nbformat_minor": 2
}
