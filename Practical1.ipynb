{
 "cells": [
  {
   "cell_type": "markdown",
   "metadata": {},
   "source": [
    "# **Q-1: How many elements are in the data set? Write down these elements.**\n",
    "\n",
    "- Thare are 40 elemetns in this dataset. Like record of the tables is an elements "
   ]
  },
  {
   "cell_type": "markdown",
   "metadata": {},
   "source": [
    "# **Q-2 How many variables are in the data set? Write down these variables.**\n",
    "\n",
    " - There are 8 variable in this dataset which are:\n",
    " \n",
    "    Date\n",
    "    Sales Rep\n",
    "    Shift\n",
    "    Cost Price\n",
    "    Selling Price\n",
    "    Profit %\n",
    "    Commission\n",
    "    Profit\n"
   ]
  },
  {
   "cell_type": "markdown",
   "metadata": {},
   "source": [
    "# **Q-3: How many observations are in the data set? Write down these observations.**\n",
    "\n",
    "**Observation:**\n",
    "\n",
    "    This entire row is one observation. It tells you everything about a particular sale made by Amos on July 1, 2024, during the night shift. It includes details like the cost price, selling price, profit percentage, commission earned, and profit made.\n",
    "\n",
    "In a Nutshell:\n",
    "\n",
    "    Observation = One complete record of data.\n",
    "    Each observation represents a specific instance or event being recorded.\n",
    "\n",
    "\n",
    "-----------------------------------------------------------------------------------------------------------\n",
    "\n",
    "\n",
    "**Number of Observations**\n",
    "\n",
    "Each row in the table represents one observation. Therefore, the number of observations is equal to the number of rows.\n",
    "\n",
    "    Total Observations: 5\n",
    "**# List of Observations**\n",
    "\n",
    "    Observation 1:\n",
    "        Date: 7/1/2024\n",
    "        Sales Rep: Amos\n",
    "        Shift: Night\n",
    "        Cost Price: $1,112.94\n",
    "        Selling Price: $1,288.00\n",
    "        Profit %: 15.73%\n",
    "        Commission: $6.44\n",
    "        Profit: $175.06\n",
    "\n",
    "    Observation 2:\n",
    "        Date: 7/1/2024\n",
    "        Sales Rep: Jacob\n",
    "        Shift: Day\n",
    "        Cost Price: $1,095.50\n",
    "        Selling Price: $1,250.75\n",
    "        Profit %: 14.17%\n",
    "        Commission: $6.25\n",
    "        Profit: $155.25\n",
    "\n",
    "    Observation 3:\n",
    "        Date: 7/4/2024\n",
    "        Sales Rep: Amos\n",
    "        Shift: Night\n",
    "        Cost Price: $1,120.94\n",
    "        Selling Price: $1,295.00\n",
    "        Profit %: 15.53%\n",
    "        Commission: $6.48\n",
    "        Profit: $174.06\n",
    "\n",
    "    Observation 4:\n",
    "        Date: 7/4/2024\n",
    "        Sales Rep: Jacob\n",
    "        Shift: Day\n",
    "        Cost Price: $1,509.73\n",
    "        Selling Price: $1,687.75\n",
    "        Profit %: 11.79%\n",
    "        Commission: $6.10\n",
    "        Profit: $178.02\n",
    "\n",
    "    Observation 5:\n",
    "        Date: 7/5/2024\n",
    "        Sales Rep: Amos\n",
    "        Shift: Day\n",
    "        Cost Price: $1,235.33\n",
    "        Selling Price: $1,412.25\n",
    "        Profit %: 14.32%\n",
    "        Commission: $7.06\n",
    "        Profit: $176.92\n",
    "\n",
    "In summary, there are 5 observations in the data set, each representing a unique sales transaction with all relevant details.\n"
   ]
  },
  {
   "cell_type": "markdown",
   "metadata": {},
   "source": [
    "# **Q-4: Which of the above variables are qualitative and which are quantitative?**\n",
    "\n",
    "**Qualitative Variables:** These are variables that describe characteristics or qualities. They are categorical and typically non-numeric. Examples include names, categories, and types.\n",
    "\n",
    "**Quantitative Variables:** These are variables that can be measured and expressed numerically. They involve counts, amounts, or measurements.\n",
    "\n",
    "\n",
    "**Qualitative Variables:**\n",
    "\n",
    "    Date (categorical but can be considered qualitative in some contexts)\n",
    "    Sales Rep\n",
    "    Shift\n",
    "\n",
    "**Quantitative Variables:**\n",
    "\n",
    "    Cost Price\n",
    "    Selling Price\n",
    "    Profit %\n",
    "    Commission\n",
    "    Profit\n",
    "\n",
    "--------------------------------------------------------------------------------------------------------------\n",
    "\n",
    "\n",
    "**Classification:**\n",
    "\n",
    "    Qualitative Variables:\n",
    "        Date: Represents the date of the transaction (categorical in terms of time but not quantitative).\n",
    "        Sales Rep: Represents the name of the sales representative (categorical).\n",
    "        Shift: Represents the shift in which the transaction occurred (categorical; Day or Night).\n",
    "\n",
    "    Quantitative Variables:\n",
    "        Cost Price: Represents the cost of the item in numerical terms (continuous numerical).\n",
    "        Selling Price: Represents the selling price of the item in numerical terms (continuous numerical).\n",
    "        Profit %: Represents the percentage of profit, which is numerical but can also be seen as a ratio (continuous numerical).\n",
    "        Commission: Represents the commission earned in numerical terms (continuous numerical).\n",
    "        Profit: Represents the profit amount in numerical terms (continuous numerical).\n",
    "\n"
   ]
  },
  {
   "cell_type": "markdown",
   "metadata": {},
   "source": [
    "# **Q-5: Identify the scale of measurement used to store data in each of the above given variables and justify the same.**\n",
    "\n",
    "Date: Ordinal (dates can be ordered but not measured in terms of magnitude)\n",
    "\n",
    "Sales Rep: Nominal (names used for identification, no inherent order)\n",
    "\n",
    "Shift: Nominal (categories with no inherent order)\n",
    "\n",
    "Cost Price: Ratio (continuous, meaningful zero, can perform arithmetic operations)\n",
    "\n",
    "Selling Price: Ratio (same reasons as Cost Price)\n",
    "\n",
    "Profit %: Ratio (percentage is a form of ratio with a meaningful zero)\n",
    "\n",
    "Commission: Ratio (continuous, meaningful zero)\n",
    "\n",
    "Profit: Ratio (continuous, meaningful zero)"
   ]
  },
  {
   "cell_type": "markdown",
   "metadata": {},
   "source": [
    "# **Q-6: Write all steps to store this tabular data into CSV format.**\n",
    "\n",
    "Open a Excel and Enter the Data \n",
    "\n",
    "\n",
    "And if you use Text editor then follow this:\n",
    "Open Text Editor:\n",
    "    Enter or Write the vales\n",
    "    Separate values by commas (,), with each row on a new line.\n",
    "\n",
    "Save the file with a .csv extension, such as sales_data.csv.\n",
    "\n",
    "Now this file is ready to use in Program, you can use with using read_csv() function in python"
   ]
  },
  {
   "cell_type": "markdown",
   "metadata": {},
   "source": [
    "# **Q-7: Write the statement to read and view CSV file of above given data in R.**\n",
    "We can use the read.csv function. \n",
    "\n",
    "# Read the CSV file\n",
    "sales_data = read.csv(\"sales_data.csv\")\n",
    "\n",
    "# View the data\n",
    "print(sales_data)\n",
    "\n",
    "\n",
    "# In python\n",
    "\n",
    "import pandas as pd\n",
    "data =  pd.read_csv(\"Data.csv\")\n",
    "print(data)"
   ]
  },
  {
   "cell_type": "code",
   "execution_count": 1,
   "metadata": {},
   "outputs": [],
   "source": [
    "# print(\"Hello\")"
   ]
  },
  {
   "cell_type": "code",
   "execution_count": 2,
   "metadata": {},
   "outputs": [
    {
     "name": "stdout",
     "output_type": "stream",
     "text": [
      "       Date Sales Rep  Shift Cost Price Selling Price Profit % Commission  \\\n",
      "0  07/01/24      Amos  Night  $1,112.94     $1,288.00   15.73%      $6.44   \n",
      "1  07/01/24     Jacob    Day  $1,095.50     $1,250.75   14.17%      $6.25   \n",
      "2  07/04/24      Amos  Night  $1,120.94     $1,295.00   15.53%      $6.48   \n",
      "3  07/04/04     Jacob    Day  $1,509.73     $1,687.75   11.79%      $6.10   \n",
      "4  07/05/24      Amos    Day  $1,235.33     $1,412.25   14.32%      $7.06   \n",
      "\n",
      "    Profit  \n",
      "0  $175.06  \n",
      "1  $155.25  \n",
      "2  $174.06  \n",
      "3  $178.02  \n",
      "4  $176.92  \n"
     ]
    }
   ],
   "source": [
    "import pandas as pd\n",
    "data =  pd.read_csv(\"Data.csv\")\n",
    "print(data)"
   ]
  }
 ],
 "metadata": {
  "kernelspec": {
   "display_name": "Python 3",
   "language": "python",
   "name": "python3"
  },
  "language_info": {
   "codemirror_mode": {
    "name": "ipython",
    "version": 3
   },
   "file_extension": ".py",
   "mimetype": "text/x-python",
   "name": "python",
   "nbconvert_exporter": "python",
   "pygments_lexer": "ipython3",
   "version": "3.11.4"
  }
 },
 "nbformat": 4,
 "nbformat_minor": 2
}
