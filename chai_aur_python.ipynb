{
 "cells": [
  {
   "cell_type": "code",
   "execution_count": 1,
   "metadata": {},
   "outputs": [
    {
     "name": "stdout",
     "output_type": "stream",
     "text": [
      "hello\n"
     ]
    }
   ],
   "source": [
    "print(\"hello\")"
   ]
  },
  {
   "cell_type": "markdown",
   "metadata": {},
   "source": [
    "# Conditional Problem (if -elif - else)"
   ]
  },
  {
   "cell_type": "code",
   "execution_count": 8,
   "metadata": {},
   "outputs": [
    {
     "name": "stdout",
     "output_type": "stream",
     "text": [
      "Child..\n"
     ]
    }
   ],
   "source": [
    "# Age group gategorization\n",
    "age = int(input(\"Enter your age: \"))\n",
    "\n",
    "if age < 13:\n",
    "    print(\"Child..\")\n",
    "elif age > 13 and age < 19:\n",
    "    print(\"Teenager..\")\n",
    "elif age > 20 and age < 50:\n",
    "    print(\"Adult..\")\n",
    "else:\n",
    "    print(\"Senior..\")"
   ]
  },
  {
   "cell_type": "code",
   "execution_count": 11,
   "metadata": {},
   "outputs": [
    {
     "name": "stdout",
     "output_type": "stream",
     "text": [
      "Get $2 discount..\n",
      "$8 for childs..\n"
     ]
    }
   ],
   "source": [
    "# Movie Ticket Pricing\n",
    "\n",
    "age = int(input(\"Enter your age: \"))\n",
    "# day = ['Mon', 'Tues', 'Wends', 'Thurs', 'Fir', 'Saturday', 'Sun']\n",
    "day = input(\"Enter the day: \")\n",
    "if age >= 18:\n",
    "    if day == 'Wends':\n",
    "        print(\"Get $2 discount..\")\n",
    "    print(\"$12 for adults..\")\n",
    "elif age < 13:\n",
    "    if day == 'Wends':\n",
    "        print(\"Get $2 discount..\")\n",
    "    print(\"$8 for childs..\")\n",
    "else :\n",
    "    print(\"Byyy\")"
   ]
  },
  {
   "cell_type": "code",
   "execution_count": 6,
   "metadata": {},
   "outputs": [
    {
     "name": "stdout",
     "output_type": "stream",
     "text": [
      "The age is  122 , and ticket price is $ 10\n"
     ]
    }
   ],
   "source": [
    "# Movie Ticket Pricing\n",
    "\n",
    "age = int(input(\"Enter your age: \"))\n",
    "day = \"Wednesday\"\n",
    "\n",
    "price = 12 if age >= 18 else 8\n",
    "# print(f\"The age is \", age, \", and price is \", price)\n",
    "\n",
    "if day == \"Wednesday\":\n",
    "    price -= 2\n",
    "    print(f\"The age is \", age, \", and ticket price is $\", price)\n",
    "else:\n",
    "    print(f\"The age is \", age, \", and ticket price is $\", price)\n",
    "    "
   ]
  },
  {
   "cell_type": "code",
   "execution_count": 8,
   "metadata": {},
   "outputs": [
    {
     "name": "stdout",
     "output_type": "stream",
     "text": [
      "A Grade.!\n"
     ]
    }
   ],
   "source": [
    "# Grade Calculator\n",
    "score = int(input(\"Enter your student score: \"))\n",
    "\n",
    "if score >= 101:\n",
    "    print(\"Please verify your grade.\")\n",
    "    # exit\n",
    "else:\n",
    "    if score >= 90:\n",
    "        print(\"A Grade.!\")\n",
    "    elif score >= 80:\n",
    "        print(\"B Grade.!\")\n",
    "    elif score >= 70:\n",
    "        print(\"C Grade.!\")\n",
    "    elif score >=  60:\n",
    "        print(\"D Grade.!\")\n",
    "    else:\n",
    "        print(\"F Grade.!\")"
   ]
  },
  {
   "cell_type": "code",
   "execution_count": 11,
   "metadata": {},
   "outputs": [
    {
     "name": "stdout",
     "output_type": "stream",
     "text": [
      "The banana is Yellow and Ripe\n"
     ]
    }
   ],
   "source": [
    "fruit = \"banana\"\n",
    "color = input(\"Enter the banana color: \")\n",
    "\n",
    "if color.lower() == \"green\":\n",
    "    print(f\"The {fruit} is {color.capitalize()} and Unripe\")\n",
    "elif color.lower() == \"yellow\":\n",
    "    print(f\"The {fruit} is {color.capitalize()} and Ripe\")\n",
    "elif color.lower() == \"brown\":\n",
    "    print(f\"The {fruit} is {color.capitalize()} and Overripe\")\n",
    "else:\n",
    "    print(\"Don't know..!\")"
   ]
  },
  {
   "cell_type": "code",
   "execution_count": 12,
   "metadata": {},
   "outputs": [
    {
     "name": "stdout",
     "output_type": "stream",
     "text": [
      "Sunny - Go for a walk\n",
      "Byy\n"
     ]
    }
   ],
   "source": [
    "# Weather Activity Suggestion\n",
    "\n",
    "weather = input(\"Enter the : \")\n",
    "\n",
    "if weather.lower() == \"sunny\":\n",
    "    print(f\"{weather.capitalize()} - Go for a walk\")\n",
    "if weather.lower() == \"rainy\":\n",
    "    print(f\"{weather.capitalize()} - Read a book.!\")\n",
    "if weather.lower() == \"snowy\":\n",
    "    print(f\"{weather.capitalize()} - Build a snowman.!\")\n",
    "else:\n",
    "    print(\"Byy\")"
   ]
  },
  {
   "cell_type": "code",
   "execution_count": 14,
   "metadata": {},
   "outputs": [
    {
     "name": "stdout",
     "output_type": "stream",
     "text": [
      "The distance is 22 km: Car.!\n"
     ]
    }
   ],
   "source": [
    "# Transporatation Mode Selection\n",
    "\n",
    "distance = int(input(\"Enter the distance: \"))\n",
    "\n",
    "if distance < 3:\n",
    "    print(f\"The distance is {distance} km: Walk.!\")\n",
    "if distance <= 15:\n",
    "    print(f\"The distance is {distance} km: Bike.!\")\n",
    "else:\n",
    "    print(f\"The distance is {distance} km: Car.!\")"
   ]
  },
  {
   "cell_type": "code",
   "execution_count": 15,
   "metadata": {},
   "outputs": [
    {
     "name": "stdout",
     "output_type": "stream",
     "text": [
      "Order:  Medium coffee\n"
     ]
    }
   ],
   "source": [
    "# Coffee Customization\n",
    "order_size = \"Medium\"\n",
    "extra_shot = False\n",
    "\n",
    "if extra_shot:\n",
    "    coffee = order_size + \" coffee with an extra shot.\"\n",
    "else:\n",
    "    coffee = order_size + \" coffee\"\n",
    "    \n",
    "print(\"Order: \", coffee)"
   ]
  },
  {
   "cell_type": "code",
   "execution_count": 16,
   "metadata": {},
   "outputs": [
    {
     "name": "stdout",
     "output_type": "stream",
     "text": [
      "Password strength is:  Strong\n"
     ]
    }
   ],
   "source": [
    "# Password strength checker\n",
    "password = \"Mitul@123455\"\n",
    "\n",
    "if len(password) < 6:\n",
    "    strength = \"Week\"\n",
    "elif len(password) <= 10:\n",
    "   strength = \"Medium\"\n",
    "else:\n",
    "    strength = \"Strong\"\n",
    "\n",
    "print(\"Password strength is: \", strength)"
   ]
  },
  {
   "cell_type": "code",
   "execution_count": 36,
   "metadata": {},
   "outputs": [
    {
     "name": "stdout",
     "output_type": "stream",
     "text": [
      "2016 is leap year..!\n"
     ]
    }
   ],
   "source": [
    "# Leap year checker\n",
    "# Leap year are divisible by 4, but not by 100 unless also divisible by 400\n",
    "\n",
    "year = int(input(\"Enter the year..: \"))\n",
    "\n",
    "if (year % 400 == 0) or (year % 4 == 0 and year % 100 != 0):\n",
    "    print(f\"{year} is leap year..!\")\n",
    "else:\n",
    "    print(f\"{year} is not a leap year..\")"
   ]
  },
  {
   "cell_type": "code",
   "execution_count": 58,
   "metadata": {},
   "outputs": [
    {
     "name": "stdout",
     "output_type": "stream",
     "text": [
      "cat : 6 year - Senior cat food.\n"
     ]
    }
   ],
   "source": [
    "# Pet food recommendation\n",
    "pet_age = int(input(\"Enter pet age (in year): \"))\n",
    "pet = input(\"Enter pet type: \")\n",
    "\n",
    "if (pet_age < 2) or (pet.lower() == \"dog\"):\n",
    "    print(f\"{pet} : {pet_age} year - Puppy food.\")\n",
    "elif (pet_age > 5) and (pet.lower() == \"cat\"):\n",
    "    print(f\"{pet} : {pet_age} year - Senior cat food.\")\n",
    "else:\n",
    "    print(\"Don't know..?\")"
   ]
  },
  {
   "cell_type": "markdown",
   "metadata": {},
   "source": [
    "# Loops Problems (while - for)"
   ]
  },
  {
   "cell_type": "code",
   "execution_count": 70,
   "metadata": {},
   "outputs": [
    {
     "name": "stdout",
     "output_type": "stream",
     "text": [
      "[1, -2, 3, -4, 5, 6, -7, -8, 9, 10]\n",
      "Final count of Positive number is :  6\n"
     ]
    }
   ],
   "source": [
    "# counting positive numbers\n",
    "\n",
    "num_dic = []\n",
    "\n",
    "value = int(input(\"How many elements you want to store? : \"))\n",
    "for i in range(value):\n",
    "    n = int(input(\"Enter number: \"))\n",
    "    num_dic.append(n)\n",
    "print(num_dic)\n",
    "\n",
    "positive_number_count = 0\n",
    "\n",
    "for pn in num_dic:\n",
    "    if pn > 0:\n",
    "        positive_number_count += 1\n",
    "print(\"Final count of Positive number is : \", positive_number_count)"
   ]
  },
  {
   "cell_type": "code",
   "execution_count": 76,
   "metadata": {},
   "outputs": [
    {
     "name": "stdout",
     "output_type": "stream",
     "text": [
      "[1, 2, 5, 8, 11, 4, 2, 9, 25, 27]\n",
      "4\n"
     ]
    }
   ],
   "source": [
    "# Sum of Even numbers\n",
    "# n = 10\n",
    "\n",
    "num_dic = []\n",
    "\n",
    "value = int(input(\"How many elements you want to store? : \"))\n",
    "for i in range(value):\n",
    "    n = int(input(\"Enter number: \"))\n",
    "    num_dic.append(n)\n",
    "print(num_dic)\n",
    "\n",
    "sum_even= 0\n",
    "# for num in range(1, n+1):\n",
    "\n",
    "for num in range(1, value):\n",
    "    if num % 2 == 0:\n",
    "        sum_even += 1\n",
    "print(\"Sum of even number is: \", sum_even)\n",
    "        "
   ]
  },
  {
   "cell_type": "code",
   "execution_count": 87,
   "metadata": {},
   "outputs": [
    {
     "name": "stdout",
     "output_type": "stream",
     "text": [
      "3 x 1  =  3\n",
      "3 x 2  =  6\n",
      "3 x 3  =  9\n",
      "3 x 4  =  12\n",
      "3 x 6  =  18\n",
      "3 x 7  =  21\n",
      "3 x 8  =  24\n",
      "3 x 9  =  27\n",
      "3 x 10  =  30\n"
     ]
    }
   ],
   "source": [
    "# Multiplication Table Printer\n",
    "\n",
    "# Multiplication Table for the given number up to 10, but skip the fifth iteration. \n",
    "\n",
    "num = 3\n",
    "\n",
    "for i in range(1, 11):\n",
    "    # skip the fifth iteration\n",
    "    \n",
    "    if i == 5:\n",
    "        # print(\"Skip the fifth iteration\")\n",
    "        continue\n",
    "    \n",
    "    print(f\"{num} x {i}  =  {num * i}\")\n",
    "    # print(num, 'x', i, '=', num * i) \n",
    "    # logic is :- 3 x 1 = 3\n",
    "    \n",
    "        "
   ]
  },
  {
   "cell_type": "code",
   "execution_count": 94,
   "metadata": {},
   "outputs": [
    {
     "name": "stdout",
     "output_type": "stream",
     "text": [
      "Mitul\n",
      "Using slicing:  lutiM\n",
      "Using loops:  lutiM\n"
     ]
    }
   ],
   "source": [
    "# Reverse a string\n",
    "name = input(\"Enter your name: \")\n",
    "print(name)\n",
    "\n",
    "reverse_name = name[::-1]\n",
    "print(\"Using slicing: \", reverse_name)\n",
    "\n",
    "# using the loop\n",
    "reverse_str = \"\"\n",
    "for char in name:\n",
    "    # print(char)\n",
    "    reverse_str = char + reverse_str\n",
    "print(\"Using loops: \", reverse_str)"
   ]
  },
  {
   "cell_type": "code",
   "execution_count": 100,
   "metadata": {},
   "outputs": [
    {
     "name": "stdout",
     "output_type": "stream",
     "text": [
      "Mitull\n",
      "M\n",
      "first non-repeated character: M\n"
     ]
    }
   ],
   "source": [
    "# Find the first non-repeated character\n",
    "name = input(\"Enter your name: \")\n",
    "# name = \"teeter\"\n",
    "print(name)\n",
    "\n",
    "for char in name:\n",
    "    print(char)\n",
    "    if name.count(char) == 1: # count the number of character in given string like if \"teeter\" then 't' is 2 times, 'e' is 3 times and 'r' is 1 time. now check that which number is there in 1 time for that check 'count(char) == 1'  \n",
    "        print(f\"first non-repeated character: {char}\")\n",
    "        break"
   ]
  },
  {
   "cell_type": "code",
   "execution_count": 106,
   "metadata": {},
   "outputs": [
    {
     "name": "stdout",
     "output_type": "stream",
     "text": [
      "Factorial is:  5\n",
      "Factorial is:  20\n",
      "Factorial is:  60\n",
      "Factorial is:  120\n",
      "Factorial is:  120\n"
     ]
    }
   ],
   "source": [
    "# Factorial Calculator - using while loop\n",
    "# 5! = 5*4*3*2*1\n",
    "\n",
    "num = 5\n",
    "factorial = 1\n",
    "while (num > 0):\n",
    "    factorial = factorial * num # factorial = 1 * 5 = 5, \n",
    "    num = num - 1               # num = 5 -1 = 4\n",
    "    print(\"Factorial is: \", factorial)            # 5, \n"
   ]
  },
  {
   "cell_type": "code",
   "execution_count": 112,
   "metadata": {},
   "outputs": [
    {
     "name": "stdout",
     "output_type": "stream",
     "text": [
      "58 is invalid number . Please try again.\n",
      "68 is invalid number . Please try again.\n",
      "68 is invalid number . Please try again.\n",
      "15 is invalid number . Please try again.\n",
      "2000 is invalid number . Please try again.\n",
      "Thanks, your number is:  10\n"
     ]
    }
   ],
   "source": [
    "#  Validate input\n",
    "# keep asking user for input until they enter a number between 1 and 10\n",
    "\n",
    "\n",
    "while True:\n",
    "    n = int(input(\"Enter value b/w 1 and 10: \"))\n",
    "    if 1 <= n <= 10:\n",
    "        print(\"Thanks, your number is: \", n)\n",
    "        break\n",
    "    else:\n",
    "        print(f\"{n} is invalid number . Please try again.\")\n",
    "\n",
    "# while True:\n",
    "#     n = int(input(\"Enter value b/w 1 and 10: \"))\n",
    "#     if n == 1 or n == 10:\n",
    "#         print(\"You entered a number that is either 1 or 10: \", n)\n",
    "#         break\n",
    "#     else:\n",
    "#         print(f\"Number {n} is not 1 or 10. Please try again.\")"
   ]
  },
  {
   "cell_type": "code",
   "execution_count": 121,
   "metadata": {},
   "outputs": [
    {
     "name": "stdout",
     "output_type": "stream",
     "text": [
      "True\n"
     ]
    }
   ],
   "source": [
    "# Check the prime number or not (Number that divide it self)\n",
    "\n",
    "number = 13\n",
    "is_prime = True\n",
    "\n",
    "if number > 1:\n",
    "    for i in range(2, number):\n",
    "        if (number % i ) == 0:\n",
    "            is_prime = False\n",
    "            # print(\"Number is not prime: \", number)\n",
    "            break\n",
    "        # else:\n",
    "        #     print(\"Number is prime: \", number)\n",
    "        #     break\n",
    "\n",
    "print(is_prime)"
   ]
  },
  {
   "cell_type": "code",
   "execution_count": 128,
   "metadata": {},
   "outputs": [
    {
     "name": "stdout",
     "output_type": "stream",
     "text": [
      "Duplicate item:  apple\n",
      "{'apple', 'orange', 'banana'}\n"
     ]
    }
   ],
   "source": [
    "# List Uniqueness checker\n",
    "items = [\"apple\", \"banana\", \"orange\", \"apple\", \"mango\"]\n",
    "\n",
    "unique_item = set()\n",
    "\n",
    "for i in items:\n",
    "    if i in unique_item:\n",
    "        print(\"Duplicate item: \", i)\n",
    "        break\n",
    "    else:\n",
    "        unique_item.add(i)\n",
    "\n",
    "print(unique_item)\n"
   ]
  },
  {
   "cell_type": "code",
   "execution_count": 130,
   "metadata": {},
   "outputs": [
    {
     "name": "stdout",
     "output_type": "stream",
     "text": [
      "Attempt  1  - wait time 1\n",
      "Attempt  2  - wait time 2\n",
      "Attempt  3  - wait time 4\n",
      "Attempt  4  - wait time 8\n",
      "Attempt  5  - wait time 16\n"
     ]
    }
   ],
   "source": [
    "# Exponential backoff \n",
    "# implement an Exponential backoff strategy that doubles the wait time between retries, starting from 1 second, but stops after 2 retries.\n",
    "\n",
    "import time\n",
    "\n",
    "wait_time = 1\n",
    "max_retries = 5\n",
    "attempts = 0\n",
    "\n",
    "while attempts < max_retries:\n",
    "    print(\"Attempt \", attempts + 1, \" - wait time\", wait_time)\n",
    "    time.sleep(wait_time)\n",
    "    wait_time *= 2\n",
    "    attempts += 1"
   ]
  }
 ],
 "metadata": {
  "kernelspec": {
   "display_name": "Python 3",
   "language": "python",
   "name": "python3"
  },
  "language_info": {
   "codemirror_mode": {
    "name": "ipython",
    "version": 3
   },
   "file_extension": ".py",
   "mimetype": "text/x-python",
   "name": "python",
   "nbconvert_exporter": "python",
   "pygments_lexer": "ipython3",
   "version": "3.11.4"
  }
 },
 "nbformat": 4,
 "nbformat_minor": 2
}
