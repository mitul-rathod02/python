{
 "cells": [
  {
   "cell_type": "code",
   "execution_count": 7,
   "metadata": {},
   "outputs": [],
   "source": [
    "import nltk\n",
    "from nltk.tokenize import word_tokenize"
   ]
  },
  
   "source": [
    "# Importing necessary libraries\n",
    "import nltk\n",
    "from nltk.tokenize import word_tokenize\n",
    "from nltk.corpus import stopwords\n",
    "\n",
    "# Ensure that you have the required resources\n",
    "# nltk.download('punkt')\n",
    "# nltk.download('stopwords')\n",
    "\n",
    "# Two statements from the paragraph\n",
    "statement1 = \"Named Entity Recognition (NER) is a subtask of NLP that involves identifying proper names in text.\"\n",
    "statement2 = \"For example, in the sentence 'Apple Inc. released the new iPhone model in California,' NER would identify 'Apple Inc.' as an organization and 'California' as a location.\"\n",
    "\n",
    "# Step 1: Tokenizing the statements\n",
    "tokens1 = word_tokenize(statement1)\n",
    "tokens2 = word_tokenize(statement2)\n",
    "\n",
    "# Printing tokens from both statements\n",
    "print(\"Tokens from Statement 1:\")\n",
    "print(tokens1)\n",
    "\n",
    "print(\"\\n\\nTokens from Statement 2:\")\n",
    "print(tokens2)\n",
    "\n",
    "# Step 2: Getting the list of English stop words\n",
    "stop_words = set(stopwords.words('english'))\n",
    "\n",
    "# Removing stop words from the tokens\n",
    "filtered_tokens1 = [word for word in tokens1 if word.lower() not in stop_words]\n",
    "filtered_tokens2 = [word for word in tokens2 if word.lower() not in stop_words]\n",
    "\n",
    "# Printing the results after removing stop words\n",
    "print(\"\\n\\nTokens from Statement 1 without stop words:\")\n",
    "print(filtered_tokens1)\n",
    "\n",
    "print(\"\\nTokens from Statement 2 without stop words:\")\n",
    "print(filtered_tokens2)\n"
   ]
  }
 ],
 "metadata": {
  "kernelspec": {
   "display_name": "Python 3",
   "language": "python",
   "name": "python3"
  },
  "language_info": {
   "codemirror_mode": {
    "name": "ipython",
    "version": 3
   },
   "file_extension": ".py",
   "mimetype": "text/x-python",
   "name": "python",
   "nbconvert_exporter": "python",
   "pygments_lexer": "ipython3",
   "version": "3.11.4"
  }
 },
 "nbformat": 4,
 "nbformat_minor": 2
}
